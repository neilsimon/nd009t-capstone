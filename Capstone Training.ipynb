{
 "cells": [
  {
   "cell_type": "code",
   "execution_count": 2,
   "metadata": {},
   "outputs": [],
   "source": [
    "import os\n",
    "import boto3\n",
    "import io\n",
    "import sagemaker\n",
    "\n",
    "import pandas as pd\n",
    "import numpy as np\n",
    "\n",
    "from sagemaker import KMeans"
   ]
  },
  {
   "cell_type": "code",
   "execution_count": 3,
   "metadata": {},
   "outputs": [],
   "source": [
    "role = sagemaker.get_execution_role()\n",
    "s3_client = boto3.client(\"s3\")\n",
    "s3Bucket = \"sagemaker-studio-p0xlvix7lda\""
   ]
  },
  {
   "cell_type": "code",
   "execution_count": 5,
   "metadata": {},
   "outputs": [
    {
     "data": {
      "text/html": [
       "<div>\n",
       "<style scoped>\n",
       "    .dataframe tbody tr th:only-of-type {\n",
       "        vertical-align: middle;\n",
       "    }\n",
       "\n",
       "    .dataframe tbody tr th {\n",
       "        vertical-align: top;\n",
       "    }\n",
       "\n",
       "    .dataframe thead th {\n",
       "        text-align: right;\n",
       "    }\n",
       "</style>\n",
       "<table border=\"1\" class=\"dataframe\">\n",
       "  <thead>\n",
       "    <tr style=\"text-align: right;\">\n",
       "      <th></th>\n",
       "      <th>Var 16 day</th>\n",
       "      <th>Normalised Gold Return</th>\n",
       "      <th>Normalised Gold Return 2 day back 1</th>\n",
       "      <th>Normalised Gold Return 4 day back 3</th>\n",
       "      <th>Normalised Gold Return 8 day back 7</th>\n",
       "      <th>Var 16 day.1</th>\n",
       "      <th>Normalised S&amp;P Return</th>\n",
       "      <th>Normalised S&amp;P Return 2 day back 1</th>\n",
       "      <th>Normalised S&amp;P Return 4 day back 3</th>\n",
       "      <th>Normalised S&amp;P Return 8 day back 7</th>\n",
       "      <th>Tomorrow Gold Return</th>\n",
       "    </tr>\n",
       "    <tr>\n",
       "      <th>Date</th>\n",
       "      <th></th>\n",
       "      <th></th>\n",
       "      <th></th>\n",
       "      <th></th>\n",
       "      <th></th>\n",
       "      <th></th>\n",
       "      <th></th>\n",
       "      <th></th>\n",
       "      <th></th>\n",
       "      <th></th>\n",
       "      <th></th>\n",
       "    </tr>\n",
       "  </thead>\n",
       "  <tbody>\n",
       "    <tr>\n",
       "      <th>2006-01-26</th>\n",
       "      <td>0.013745</td>\n",
       "      <td>-0.323525</td>\n",
       "      <td>0.359369</td>\n",
       "      <td>0.322096</td>\n",
       "      <td>0.939482</td>\n",
       "      <td>0.006625</td>\n",
       "      <td>1.092031</td>\n",
       "      <td>0.072626</td>\n",
       "      <td>-1.129939</td>\n",
       "      <td>0.401029</td>\n",
       "      <td>-0.001787</td>\n",
       "    </tr>\n",
       "    <tr>\n",
       "      <th>2006-01-27</th>\n",
       "      <td>0.013338</td>\n",
       "      <td>-0.133952</td>\n",
       "      <td>0.190116</td>\n",
       "      <td>0.965259</td>\n",
       "      <td>0.876347</td>\n",
       "      <td>0.006686</td>\n",
       "      <td>1.161302</td>\n",
       "      <td>0.581902</td>\n",
       "      <td>-0.647845</td>\n",
       "      <td>0.184792</td>\n",
       "      <td>0.012708</td>\n",
       "    </tr>\n",
       "    <tr>\n",
       "      <th>2006-01-30</th>\n",
       "      <td>0.012713</td>\n",
       "      <td>0.999577</td>\n",
       "      <td>-0.346257</td>\n",
       "      <td>0.267636</td>\n",
       "      <td>0.963565</td>\n",
       "      <td>0.006686</td>\n",
       "      <td>0.171274</td>\n",
       "      <td>1.592265</td>\n",
       "      <td>-1.184882</td>\n",
       "      <td>-0.016867</td>\n",
       "      <td>0.008837</td>\n",
       "    </tr>\n",
       "    <tr>\n",
       "      <th>2006-01-31</th>\n",
       "      <td>0.011519</td>\n",
       "      <td>0.767178</td>\n",
       "      <td>0.669035</td>\n",
       "      <td>0.486221</td>\n",
       "      <td>0.245949</td>\n",
       "      <td>0.006339</td>\n",
       "      <td>-0.627284</td>\n",
       "      <td>0.994861</td>\n",
       "      <td>0.771635</td>\n",
       "      <td>-1.239087</td>\n",
       "      <td>-0.002453</td>\n",
       "    </tr>\n",
       "    <tr>\n",
       "      <th>2006-02-01</th>\n",
       "      <td>0.010985</td>\n",
       "      <td>-0.223273</td>\n",
       "      <td>1.394069</td>\n",
       "      <td>0.032610</td>\n",
       "      <td>0.827823</td>\n",
       "      <td>0.006281</td>\n",
       "      <td>0.296037</td>\n",
       "      <td>-0.319243</td>\n",
       "      <td>1.253555</td>\n",
       "      <td>-1.129202</td>\n",
       "      <td>0.005444</td>\n",
       "    </tr>\n",
       "  </tbody>\n",
       "</table>\n",
       "</div>"
      ],
      "text/plain": [
       "            Var 16 day  Normalised Gold Return  \\\n",
       "Date                                             \n",
       "2006-01-26    0.013745               -0.323525   \n",
       "2006-01-27    0.013338               -0.133952   \n",
       "2006-01-30    0.012713                0.999577   \n",
       "2006-01-31    0.011519                0.767178   \n",
       "2006-02-01    0.010985               -0.223273   \n",
       "\n",
       "            Normalised Gold Return 2 day back 1  \\\n",
       "Date                                              \n",
       "2006-01-26                             0.359369   \n",
       "2006-01-27                             0.190116   \n",
       "2006-01-30                            -0.346257   \n",
       "2006-01-31                             0.669035   \n",
       "2006-02-01                             1.394069   \n",
       "\n",
       "            Normalised Gold Return 4 day back 3  \\\n",
       "Date                                              \n",
       "2006-01-26                             0.322096   \n",
       "2006-01-27                             0.965259   \n",
       "2006-01-30                             0.267636   \n",
       "2006-01-31                             0.486221   \n",
       "2006-02-01                             0.032610   \n",
       "\n",
       "            Normalised Gold Return 8 day back 7  Var 16 day.1  \\\n",
       "Date                                                            \n",
       "2006-01-26                             0.939482      0.006625   \n",
       "2006-01-27                             0.876347      0.006686   \n",
       "2006-01-30                             0.963565      0.006686   \n",
       "2006-01-31                             0.245949      0.006339   \n",
       "2006-02-01                             0.827823      0.006281   \n",
       "\n",
       "            Normalised S&P Return  Normalised S&P Return 2 day back 1  \\\n",
       "Date                                                                    \n",
       "2006-01-26               1.092031                            0.072626   \n",
       "2006-01-27               1.161302                            0.581902   \n",
       "2006-01-30               0.171274                            1.592265   \n",
       "2006-01-31              -0.627284                            0.994861   \n",
       "2006-02-01               0.296037                           -0.319243   \n",
       "\n",
       "            Normalised S&P Return 4 day back 3  \\\n",
       "Date                                             \n",
       "2006-01-26                           -1.129939   \n",
       "2006-01-27                           -0.647845   \n",
       "2006-01-30                           -1.184882   \n",
       "2006-01-31                            0.771635   \n",
       "2006-02-01                            1.253555   \n",
       "\n",
       "            Normalised S&P Return 8 day back 7  Tomorrow Gold Return  \n",
       "Date                                                                  \n",
       "2006-01-26                            0.401029             -0.001787  \n",
       "2006-01-27                            0.184792              0.012708  \n",
       "2006-01-30                           -0.016867              0.008837  \n",
       "2006-01-31                           -1.239087             -0.002453  \n",
       "2006-02-01                           -1.129202              0.005444  "
      ]
     },
     "execution_count": 5,
     "metadata": {},
     "output_type": "execute_result"
    }
   ],
   "source": [
    "source_data = \"s3://sagemaker-studio-p0xlvix7lda/Gold daily processed final.csv\"\n",
    "response = s3_client.get_object(Bucket=s3Bucket, Key=\"Gold daily processed final.csv\")\n",
    "response_body = response[\"Body\"].read()\n",
    "table = pd.read_csv(io.BytesIO(response_body), header=0, delimiter=\",\", low_memory=False, parse_dates=['Date'], index_col=0, usecols=['Date', 'Normalised Gold Return', 'Normalised Gold Return 2 day back 1', 'Normalised Gold Return 4 day back 3', 'Normalised Gold Return 8 day back 7', 'Var 16 day', 'Normalised S&P Return', 'Normalised S&P Return 2 day back 1', 'Normalised S&P Return 4 day back 3', 'Normalised S&P Return 8 day back 7', 'Var 16 day.1', 'Tomorrow Gold Return'])\n",
    "table.head()"
   ]
  },
  {
   "cell_type": "code",
   "execution_count": 29,
   "metadata": {},
   "outputs": [],
   "source": [
    "hist_bincount = 48"
   ]
  },
  {
   "cell_type": "code",
   "execution_count": 30,
   "metadata": {},
   "outputs": [
    {
     "data": {
      "text/plain": [
       "<matplotlib.axes._subplots.AxesSubplot at 0x7fe95fe9a910>"
      ]
     },
     "execution_count": 30,
     "metadata": {},
     "output_type": "execute_result"
    },
    {
     "data": {
      "image/png": "[encoded data removed]",
      "text/plain": [
       "<Figure size 432x288 with 1 Axes>"
      ]
     },
     "metadata": {
      "needs_background": "light"
     },
     "output_type": "display_data"
    }
   ],
   "source": [
    "table['Var 16 day'].plot.hist(bins=hist_bincount)"
   ]
  },
  {
   "cell_type": "code",
   "execution_count": 31,
   "metadata": {},
   "outputs": [
    {
     "data": {
      "text/plain": [
       "<matplotlib.axes._subplots.AxesSubplot at 0x7fe95fe9af50>"
      ]
     },
     "execution_count": 31,
     "metadata": {},
     "output_type": "execute_result"
    },
    {
     "data": {
      "image/png": "[encoded data removed]",
      "text/plain": [
       "<Figure size 432x288 with 1 Axes>"
      ]
     },
     "metadata": {
      "needs_background": "light"
     },
     "output_type": "display_data"
    }
   ],
   "source": [
    "table['Normalised Gold Return'].plot.hist(bins=hist_bincount)"
   ]
  },
  {
   "cell_type": "code",
   "execution_count": 32,
   "metadata": {},
   "outputs": [
    {
     "data": {
      "text/plain": [
       "<matplotlib.axes._subplots.AxesSubplot at 0x7fe95fd8a990>"
      ]
     },
     "execution_count": 32,
     "metadata": {},
     "output_type": "execute_result"
    },
    {
     "data": {
      "image/png": "[encoded data removed]",
      "text/plain": [
       "<Figure size 432x288 with 1 Axes>"
      ]
     },
     "metadata": {
      "needs_background": "light"
     },
     "output_type": "display_data"
    }
   ],
   "source": [
    "table['Normalised Gold Return 2 day back 1'].plot.hist(bins=hist_bincount)"
   ]
  },
  {
   "cell_type": "code",
   "execution_count": 33,
   "metadata": {},
   "outputs": [
    {
     "data": {
      "text/plain": [
       "<matplotlib.axes._subplots.AxesSubplot at 0x7fe95fc77e50>"
      ]
     },
     "execution_count": 33,
     "metadata": {},
     "output_type": "execute_result"
    },
    {
     "data": {
      "image/png": "[encoded data removed]",
      "text/plain": [
       "<Figure size 432x288 with 1 Axes>"
      ]
     },
     "metadata": {
      "needs_background": "light"
     },
     "output_type": "display_data"
    }
   ],
   "source": [
    "table['Normalised Gold Return 4 day back 3'].plot.hist(bins=hist_bincount)"
   ]
  },
  {
   "cell_type": "code",
   "execution_count": 34,
   "metadata": {},
   "outputs": [
    {
     "data": {
      "text/plain": [
       "<matplotlib.axes._subplots.AxesSubplot at 0x7fe964fe4c90>"
      ]
     },
     "execution_count": 34,
     "metadata": {},
     "output_type": "execute_result"
    },
    {
     "data": {
      "image/png": "[encoded data removed]",
      "text/plain": [
       "<Figure size 432x288 with 1 Axes>"
      ]
     },
     "metadata": {
      "needs_background": "light"
     },
     "output_type": "display_data"
    }
   ],
   "source": [
    "table['Normalised Gold Return 8 day back 7'].plot.hist(bins=hist_bincount)"
   ]
  },
  {
   "cell_type": "code",
   "execution_count": 35,
   "metadata": {},
   "outputs": [
    {
     "data": {
      "text/plain": [
       "<matplotlib.axes._subplots.AxesSubplot at 0x7fe95f9dbb90>"
      ]
     },
     "execution_count": 35,
     "metadata": {},
     "output_type": "execute_result"
    },
    {
     "data": {
      "image/png": "[encoded data removed]",
      "text/plain": [
       "<Figure size 432x288 with 1 Axes>"
      ]
     },
     "metadata": {
      "needs_background": "light"
     },
     "output_type": "display_data"
    }
   ],
   "source": [
    "table['Var 16 day.1'].plot.hist(bins=hist_bincount)"
   ]
  },
  {
   "cell_type": "code",
   "execution_count": 36,
   "metadata": {},
   "outputs": [
    {
     "data": {
      "text/plain": [
       "<matplotlib.axes._subplots.AxesSubplot at 0x7fe95f8ece10>"
      ]
     },
     "execution_count": 36,
     "metadata": {},
     "output_type": "execute_result"
    },
    {
     "data": {
      "image/png": "[encoded data removed]",
      "text/plain": [
       "<Figure size 432x288 with 1 Axes>"
      ]
     },
     "metadata": {
      "needs_background": "light"
     },
     "output_type": "display_data"
    }
   ],
   "source": [
    "table['Normalised S&P Return'].plot.hist(bins=hist_bincount)"
   ]
  },
  {
   "cell_type": "code",
   "execution_count": 37,
   "metadata": {},
   "outputs": [
    {
     "data": {
      "text/plain": [
       "<matplotlib.axes._subplots.AxesSubplot at 0x7fe965c17c90>"
      ]
     },
     "execution_count": 37,
     "metadata": {},
     "output_type": "execute_result"
    },
    {
     "data": {
      "image/png": "[encoded data removed]",
      "text/plain": [
       "<Figure size 432x288 with 1 Axes>"
      ]
     },
     "metadata": {
      "needs_background": "light"
     },
     "output_type": "display_data"
    }
   ],
   "source": [
    "table['Normalised S&P Return 2 day back 1'].plot.hist(bins=hist_bincount)"
   ]
  },
  {
   "cell_type": "code",
   "execution_count": 38,
   "metadata": {},
   "outputs": [
    {
     "data": {
      "text/plain": [
       "<matplotlib.axes._subplots.AxesSubplot at 0x7fe95f6ee810>"
      ]
     },
     "execution_count": 38,
     "metadata": {},
     "output_type": "execute_result"
    },
    {
     "data": {
      "image/png": "[encoded data removed]",
      "text/plain": [
       "<Figure size 432x288 with 1 Axes>"
      ]
     },
     "metadata": {
      "needs_background": "light"
     },
     "output_type": "display_data"
    }
   ],
   "source": [
    "table['Normalised S&P Return 4 day back 3'].plot.hist(bins=hist_bincount)"
   ]
  },
  {
   "cell_type": "code",
   "execution_count": 39,
   "metadata": {},
   "outputs": [
    {
     "data": {
      "text/plain": [
       "<matplotlib.axes._subplots.AxesSubplot at 0x7fe95f5ca290>"
      ]
     },
     "execution_count": 39,
     "metadata": {},
     "output_type": "execute_result"
    },
    {
     "data": {
      "image/png": "[encoded data removed]",
      "text/plain": [
       "<Figure size 432x288 with 1 Axes>"
      ]
     },
     "metadata": {
      "needs_background": "light"
     },
     "output_type": "display_data"
    }
   ],
   "source": [
    "table['Normalised S&P Return 8 day back 7'].plot.hist(bins=hist_bincount)"
   ]
  },
  {
   "cell_type": "code",
   "execution_count": 6,
   "metadata": {},
   "outputs": [],
   "source": [
    "trainTableNew = table.loc[:\"2017-12-26\",:]\n",
    "testTableNew  = table.loc[\"2017-12-27\":,:]"
   ]
  },
  {
   "cell_type": "code",
   "execution_count": 7,
   "metadata": {},
   "outputs": [],
   "source": [
    "kMeansTable = table[['Normalised Gold Return', 'Normalised Gold Return 2 day back 1', 'Normalised Gold Return 4 day back 3', 'Normalised Gold Return 8 day back 7', 'Var 16 day', 'Normalised S&P Return', 'Normalised S&P Return 2 day back 1', 'Normalised S&P Return 4 day back 3', 'Normalised S&P Return 8 day back 7', 'Var 16 day.1']]\n",
    "trainKMeansTableNew = kMeansTable.iloc[:3000,:]\n",
    "testKMeansTableNew = kMeansTable.iloc[3000:,:]"
   ]
  },
  {
   "cell_type": "code",
   "execution_count": 8,
   "metadata": {},
   "outputs": [
    {
     "data": {
      "text/plain": [
       "(3000, 10)"
      ]
     },
     "execution_count": 8,
     "metadata": {},
     "output_type": "execute_result"
    }
   ],
   "source": [
    "trainKMeansTableNew.shape"
   ]
  },
  {
   "cell_type": "code",
   "execution_count": 9,
   "metadata": {},
   "outputs": [
    {
     "data": {
      "text/plain": [
       "(992, 10)"
      ]
     },
     "execution_count": 9,
     "metadata": {},
     "output_type": "execute_result"
    }
   ],
   "source": [
    "testKMeansTableNew.shape"
   ]
  },
  {
   "cell_type": "code",
   "execution_count": 10,
   "metadata": {},
   "outputs": [],
   "source": [
    "num_clusters = 6\n",
    "from sagemaker import KMeans\n",
    "\n",
    "kmeans = KMeans(\n",
    "    role=role,\n",
    "    instance_count=1,\n",
    "    instance_type=\"ml.c4.xlarge\",\n",
    "    output_path=\"s3://\" + s3Bucket + \"/groups/\",\n",
    "    k=num_clusters,\n",
    ")\n"
   ]
  },
  {
   "cell_type": "code",
   "execution_count": 11,
   "metadata": {},
   "outputs": [
    {
     "name": "stderr",
     "output_type": "stream",
     "text": [
      "Defaulting to the only supported framework/algorithm version: 1. Ignoring framework/algorithm version: 1.\n",
      "Defaulting to the only supported framework/algorithm version: 1. Ignoring framework/algorithm version: 1.\n"
     ]
    },
    {
     "name": "stdout",
     "output_type": "stream",
     "text": [
      "2021-12-27 21:18:45 Starting - Starting the training job...\n",
      "2021-12-27 21:19:09 Starting - Launching requested ML instancesProfilerReport-1640639925: InProgress\n",
      "......\n",
      "2021-12-27 21:20:10 Starting - Preparing the instances for training......\n",
      "2021-12-27 21:21:15 Downloading - Downloading input data\n",
      "2021-12-27 21:21:15 Training - Downloading the training image.........\n",
      "2021-12-27 21:22:43 Training - Training image download completed. Training in progress..\u001b[34mDocker entrypoint called with argument(s): train\u001b[0m\n",
      "\u001b[34mRunning default environment configuration script\u001b[0m\n",
      "\u001b[34m[12/27/2021 21:22:47 INFO 140702524630848] Reading default configuration from /opt/amazon/lib/python3.7/site-packages/algorithm/resources/default-input.json: {'init_method': 'random', 'mini_batch_size': '5000', 'epochs': '1', 'extra_center_factor': 'auto', 'local_lloyd_max_iter': '300', 'local_lloyd_tol': '0.0001', 'local_lloyd_init_method': 'kmeans++', 'local_lloyd_num_trials': 'auto', 'half_life_time_size': '0', 'eval_metrics': '[\"msd\"]', 'force_dense': 'true', '_disable_wait_to_read': 'false', '_enable_profiler': 'false', '_kvstore': 'auto', '_log_level': 'info', '_num_gpus': 'auto', '_num_kv_servers': '1', '_num_slices': '1', '_tuning_objective_metric': ''}\u001b[0m\n",
      "\u001b[34m[12/27/2021 21:22:47 INFO 140702524630848] Merging with provided configuration from /opt/ml/input/config/hyperparameters.json: {'feature_dim': '10', 'k': '6', 'force_dense': 'True'}\u001b[0m\n",
      "\u001b[34m[12/27/2021 21:22:47 INFO 140702524630848] Final configuration: {'init_method': 'random', 'mini_batch_size': '5000', 'epochs': '1', 'extra_center_factor': 'auto', 'local_lloyd_max_iter': '300', 'local_lloyd_tol': '0.0001', 'local_lloyd_init_method': 'kmeans++', 'local_lloyd_num_trials': 'auto', 'half_life_time_size': '0', 'eval_metrics': '[\"msd\"]', 'force_dense': 'True', '_disable_wait_to_read': 'false', '_enable_profiler': 'false', '_kvstore': 'auto', '_log_level': 'info', '_num_gpus': 'auto', '_num_kv_servers': '1', '_num_slices': '1', '_tuning_objective_metric': '', 'feature_dim': '10', 'k': '6'}\u001b[0m\n",
      "\u001b[34m[12/27/2021 21:22:47 WARNING 140702524630848] Loggers have already been setup.\u001b[0m\n",
      "\u001b[34mProcess 1 is a worker.\u001b[0m\n",
      "\u001b[34m[12/27/2021 21:22:47 INFO 140702524630848] Using default worker.\u001b[0m\n",
      "\u001b[34m[12/27/2021 21:22:47 INFO 140702524630848] Loaded iterator creator application/x-recordio-protobuf for content type ('application/x-recordio-protobuf', '1.0')\u001b[0m\n",
      "\u001b[34m[12/27/2021 21:22:47 INFO 140702524630848] Create Store: local\u001b[0m\n",
      "\u001b[34m[12/27/2021 21:22:47 INFO 140702524630848] nvidia-smi: took 0.031 seconds to run.\u001b[0m\n",
      "\u001b[34m[12/27/2021 21:22:47 INFO 140702524630848] nvidia-smi identified 0 GPUs.\u001b[0m\n",
      "\u001b[34m[12/27/2021 21:22:47 INFO 140702524630848] Number of GPUs being used: 0\u001b[0m\n",
      "\u001b[34m[12/27/2021 21:22:47 INFO 140702524630848] Checkpoint loading and saving are disabled.\u001b[0m\n",
      "\u001b[34m[12/27/2021 21:22:47 INFO 140702524630848] Setting up with params: {'init_method': 'random', 'mini_batch_size': '5000', 'epochs': '1', 'extra_center_factor': 'auto', 'local_lloyd_max_iter': '300', 'local_lloyd_tol': '0.0001', 'local_lloyd_init_method': 'kmeans++', 'local_lloyd_num_trials': 'auto', 'half_life_time_size': '0', 'eval_metrics': '[\"msd\"]', 'force_dense': 'True', '_disable_wait_to_read': 'false', '_enable_profiler': 'false', '_kvstore': 'auto', '_log_level': 'info', '_num_gpus': 'auto', '_num_kv_servers': '1', '_num_slices': '1', '_tuning_objective_metric': '', 'feature_dim': '10', 'k': '6'}\u001b[0m\n",
      "\u001b[34m[12/27/2021 21:22:47 INFO 140702524630848] 'extra_center_factor' was set to 'auto', evaluated to 10.\u001b[0m\n",
      "\u001b[34m[12/27/2021 21:22:47 INFO 140702524630848] Number of GPUs being used: 0\u001b[0m\n",
      "\u001b[34m[12/27/2021 21:22:47 INFO 140702524630848] number of center slices 1\u001b[0m\n",
      "\u001b[34m[12/27/2021 21:22:47 WARNING 140702524630848] Batch size 5000 is bigger than the first batch data. Effective batch size used to initialize is 3000\u001b[0m\n",
      "\u001b[34m#metrics {\"StartTime\": 1640640167.224506, \"EndTime\": 1640640167.2245393, \"Dimensions\": {\"Algorithm\": \"AWS/KMeansWebscale\", \"Host\": \"algo-1\", \"Operation\": \"training\", \"Meta\": \"init_train_data_iter\"}, \"Metrics\": {\"Total Records Seen\": {\"sum\": 3000.0, \"count\": 1, \"min\": 3000, \"max\": 3000}, \"Total Batches Seen\": {\"sum\": 1.0, \"count\": 1, \"min\": 1, \"max\": 1}, \"Max Records Seen Between Resets\": {\"sum\": 3000.0, \"count\": 1, \"min\": 3000, \"max\": 3000}, \"Max Batches Seen Between Resets\": {\"sum\": 1.0, \"count\": 1, \"min\": 1, \"max\": 1}, \"Reset Count\": {\"sum\": 0.0, \"count\": 1, \"min\": 0, \"max\": 0}, \"Number of Records Since Last Reset\": {\"sum\": 3000.0, \"count\": 1, \"min\": 3000, \"max\": 3000}, \"Number of Batches Since Last Reset\": {\"sum\": 1.0, \"count\": 1, \"min\": 1, \"max\": 1}}}\u001b[0m\n",
      "\u001b[34m[2021-12-27 21:22:47.224] [tensorio] [info] epoch_stats={\"data_pipeline\": \"/opt/ml/input/data/train\", \"epoch\": 0, \"duration\": 31, \"num_examples\": 1, \"num_bytes\": 192000}\u001b[0m\n",
      "\u001b[34m[2021-12-27 21:22:47.272] [tensorio] [info] epoch_stats={\"data_pipeline\": \"/opt/ml/input/data/train\", \"epoch\": 1, \"duration\": 46, \"num_examples\": 1, \"num_bytes\": 192000}\u001b[0m\n",
      "\u001b[34m[12/27/2021 21:22:47 INFO 140702524630848] processed a total of 3000 examples\u001b[0m\n",
      "\u001b[34m[12/27/2021 21:22:47 INFO 140702524630848] #progress_metric: host=algo-1, completed 100.0 % of epochs\u001b[0m\n",
      "\u001b[34m#metrics {\"StartTime\": 1640640167.224946, \"EndTime\": 1640640167.2728515, \"Dimensions\": {\"Algorithm\": \"AWS/KMeansWebscale\", \"Host\": \"algo-1\", \"Operation\": \"training\", \"epoch\": 0, \"Meta\": \"training_data_iter\"}, \"Metrics\": {\"Total Records Seen\": {\"sum\": 6000.0, \"count\": 1, \"min\": 6000, \"max\": 6000}, \"Total Batches Seen\": {\"sum\": 2.0, \"count\": 1, \"min\": 2, \"max\": 2}, \"Max Records Seen Between Resets\": {\"sum\": 3000.0, \"count\": 1, \"min\": 3000, \"max\": 3000}, \"Max Batches Seen Between Resets\": {\"sum\": 1.0, \"count\": 1, \"min\": 1, \"max\": 1}, \"Reset Count\": {\"sum\": 1.0, \"count\": 1, \"min\": 1, \"max\": 1}, \"Number of Records Since Last Reset\": {\"sum\": 3000.0, \"count\": 1, \"min\": 3000, \"max\": 3000}, \"Number of Batches Since Last Reset\": {\"sum\": 1.0, \"count\": 1, \"min\": 1, \"max\": 1}}}\u001b[0m\n",
      "\u001b[34m[12/27/2021 21:22:47 INFO 140702524630848] #throughput_metric: host=algo-1, train throughput=62439.086357388485 records/second\u001b[0m\n",
      "\u001b[34m[12/27/2021 21:22:47 WARNING 140702524630848] wait_for_all_workers will not sync workers since the kv store is not running distributed\u001b[0m\n",
      "\u001b[34m[12/27/2021 21:22:47 INFO 140702524630848] shrinking 60 centers into 6\u001b[0m\n",
      "\u001b[34m[12/27/2021 21:22:47 INFO 140702524630848] local kmeans attempt #0. Current mean square distance 2.867235\u001b[0m\n",
      "\u001b[34m[12/27/2021 21:22:47 INFO 140702524630848] local kmeans attempt #1. Current mean square distance 2.824588\u001b[0m\n",
      "\u001b[34m[12/27/2021 21:22:47 INFO 140702524630848] local kmeans attempt #2. Current mean square distance 2.875342\u001b[0m\n",
      "\u001b[34m[12/27/2021 21:22:47 INFO 140702524630848] local kmeans attempt #3. Current mean square distance 2.868669\u001b[0m\n",
      "\u001b[34m[12/27/2021 21:22:47 INFO 140702524630848] local kmeans attempt #4. Current mean square distance 2.895386\u001b[0m\n",
      "\u001b[34m[12/27/2021 21:22:47 INFO 140702524630848] local kmeans attempt #5. Current mean square distance 2.988575\u001b[0m\n",
      "\u001b[34m[12/27/2021 21:22:47 INFO 140702524630848] local kmeans attempt #6. Current mean square distance 2.776836\u001b[0m\n",
      "\u001b[34m[12/27/2021 21:22:47 INFO 140702524630848] local kmeans attempt #7. Current mean square distance 2.869091\u001b[0m\n",
      "\u001b[34m[12/27/2021 21:22:47 INFO 140702524630848] local kmeans attempt #8. Current mean square distance 2.935331\u001b[0m\n",
      "\u001b[34m[12/27/2021 21:22:47 INFO 140702524630848] local kmeans attempt #9. Current mean square distance 2.902488\u001b[0m\n",
      "\u001b[34m[12/27/2021 21:22:47 INFO 140702524630848] finished shrinking process. Mean Square Distance = 3\u001b[0m\n",
      "\u001b[34m[12/27/2021 21:22:47 INFO 140702524630848] #quality_metric: host=algo-1, train msd <loss>=2.7768359184265137\u001b[0m\n",
      "\u001b[34m[12/27/2021 21:22:47 INFO 140702524630848] compute all data-center distances: inner product took: 29.8162%, (0.016080 secs)\u001b[0m\n",
      "\u001b[34m[12/27/2021 21:22:47 INFO 140702524630848] collect from kv store took: 13.4662%, (0.007262 secs)\u001b[0m\n",
      "\u001b[34m[12/27/2021 21:22:47 INFO 140702524630848] splitting centers key-value pair took: 13.2531%, (0.007147 secs)\u001b[0m\n",
      "\u001b[34m[12/27/2021 21:22:47 INFO 140702524630848] gradient: cluster center took: 9.6244%, (0.005190 secs)\u001b[0m\n",
      "\u001b[34m[12/27/2021 21:22:47 INFO 140702524630848] batch data loading with context took: 8.5002%, (0.004584 secs)\u001b[0m\n",
      "\u001b[34m[12/27/2021 21:22:47 INFO 140702524630848] predict compute msd took: 6.9210%, (0.003732 secs)\u001b[0m\n",
      "\u001b[34m[12/27/2021 21:22:47 INFO 140702524630848] compute all data-center distances: point norm took: 6.6151%, (0.003567 secs)\u001b[0m\n",
      "\u001b[34m[12/27/2021 21:22:47 INFO 140702524630848] gradient: one_hot took: 6.2848%, (0.003389 secs)\u001b[0m\n",
      "\u001b[34m[12/27/2021 21:22:47 INFO 140702524630848] update state and report convergance took: 2.8657%, (0.001545 secs)\u001b[0m\n",
      "\u001b[34m[12/27/2021 21:22:47 INFO 140702524630848] gradient: cluster size  took: 1.8170%, (0.000980 secs)\u001b[0m\n",
      "\u001b[34m[12/27/2021 21:22:47 INFO 140702524630848] update set-up time took: 0.5093%, (0.000275 secs)\u001b[0m\n",
      "\u001b[34m[12/27/2021 21:22:47 INFO 140702524630848] compute all data-center distances: center norm took: 0.2812%, (0.000152 secs)\u001b[0m\n",
      "\u001b[34m[12/27/2021 21:22:47 INFO 140702524630848] predict minus dist took: 0.0460%, (0.000025 secs)\u001b[0m\n",
      "\u001b[34m[12/27/2021 21:22:47 INFO 140702524630848] TOTAL took: 0.05392932891845703\u001b[0m\n",
      "\u001b[34m[12/27/2021 21:22:47 INFO 140702524630848] Number of GPUs being used: 0\u001b[0m\n",
      "\u001b[34m#metrics {\"StartTime\": 1640640167.1926136, \"EndTime\": 1640640167.5485187, \"Dimensions\": {\"Algorithm\": \"AWS/KMeansWebscale\", \"Host\": \"algo-1\", \"Operation\": \"training\"}, \"Metrics\": {\"initialize.time\": {\"sum\": 25.66242218017578, \"count\": 1, \"min\": 25.66242218017578, \"max\": 25.66242218017578}, \"epochs\": {\"sum\": 1.0, \"count\": 1, \"min\": 1, \"max\": 1}, \"update.time\": {\"sum\": 47.687530517578125, \"count\": 1, \"min\": 47.687530517578125, \"max\": 47.687530517578125}, \"_shrink.time\": {\"sum\": 271.8853950500488, \"count\": 1, \"min\": 271.8853950500488, \"max\": 271.8853950500488}, \"finalize.time\": {\"sum\": 273.91672134399414, \"count\": 1, \"min\": 273.91672134399414, \"max\": 273.91672134399414}, \"model.serialize.time\": {\"sum\": 1.4028549194335938, \"count\": 1, \"min\": 1.4028549194335938, \"max\": 1.4028549194335938}}}\u001b[0m\n",
      "\u001b[34m[12/27/2021 21:22:47 INFO 140702524630848] Test data is not provided.\u001b[0m\n",
      "\u001b[34m#metrics {\"StartTime\": 1640640167.5486104, \"EndTime\": 1640640167.548869, \"Dimensions\": {\"Algorithm\": \"AWS/KMeansWebscale\", \"Host\": \"algo-1\", \"Operation\": \"training\"}, \"Metrics\": {\"setuptime\": {\"sum\": 14.777183532714844, \"count\": 1, \"min\": 14.777183532714844, \"max\": 14.777183532714844}, \"totaltime\": {\"sum\": 426.13983154296875, \"count\": 1, \"min\": 426.13983154296875, \"max\": 426.13983154296875}}}\u001b[0m\n",
      "\n",
      "2021-12-27 21:23:11 Uploading - Uploading generated training model\n",
      "2021-12-27 21:23:11 Completed - Training job completed\n",
      "Training seconds: 108\n",
      "Billable seconds: 108\n"
     ]
    }
   ],
   "source": [
    "kmeans.fit(kmeans.record_set(trainKMeansTableNew.values.astype(\"float32\")))"
   ]
  },
  {
   "cell_type": "code",
   "execution_count": 12,
   "metadata": {},
   "outputs": [
    {
     "name": "stderr",
     "output_type": "stream",
     "text": [
      "Defaulting to the only supported framework/algorithm version: 1. Ignoring framework/algorithm version: 1.\n"
     ]
    },
    {
     "name": "stdout",
     "output_type": "stream",
     "text": [
      "--------------!"
     ]
    }
   ],
   "source": [
    "kmeans_predictor = kmeans.deploy(initial_instance_count=1, instance_type=\"ml.t2.medium\")"
   ]
  },
  {
   "cell_type": "code",
   "execution_count": 13,
   "metadata": {},
   "outputs": [],
   "source": [
    "trainResult = kmeans_predictor.predict(trainKMeansTableNew.values.astype(\"float32\"))"
   ]
  },
  {
   "cell_type": "code",
   "execution_count": 14,
   "metadata": {},
   "outputs": [],
   "source": [
    "testResult = kmeans_predictor.predict(testKMeansTableNew.values.astype(\"float32\"))"
   ]
  },
  {
   "cell_type": "code",
   "execution_count": 15,
   "metadata": {},
   "outputs": [],
   "source": [
    "kmeans_predictor.delete_endpoint()"
   ]
  },
  {
   "cell_type": "code",
   "execution_count": 16,
   "metadata": {},
   "outputs": [
    {
     "name": "stderr",
     "output_type": "stream",
     "text": [
      "/opt/conda/lib/python3.7/site-packages/ipykernel_launcher.py:2: SettingWithCopyWarning: \n",
      "A value is trying to be set on a copy of a slice from a DataFrame.\n",
      "Try using .loc[row_indexer,col_indexer] = value instead\n",
      "\n",
      "See the caveats in the documentation: https://pandas.pydata.org/pandas-docs/stable/user_guide/indexing.html#returning-a-view-versus-a-copy\n",
      "  \n"
     ]
    }
   ],
   "source": [
    "trainResultList = [int(i.label[\"closest_cluster\"].float32_tensor.values[0]) for i in trainResult]\n",
    "trainTableNew['Cluster'] = trainResultList\n",
    "trainTableNew.head()\n",
    "trainTableNew.to_csv(\"data/clusteredTrain.csv\")\n",
    "[trainTableNew[trainTableNew['Cluster']==i].to_csv(\"data/train\" + str(i) + \".csv\") for i in np.unique(trainTableNew['Cluster'].values.ravel())]\n",
    "trainTableClustered = [trainTableNew[trainTableNew['Cluster']==i] for i in np.unique(trainTableNew['Cluster'].values.ravel())]"
   ]
  },
  {
   "cell_type": "code",
   "execution_count": 17,
   "metadata": {},
   "outputs": [
    {
     "name": "stderr",
     "output_type": "stream",
     "text": [
      "/opt/conda/lib/python3.7/site-packages/ipykernel_launcher.py:2: SettingWithCopyWarning: \n",
      "A value is trying to be set on a copy of a slice from a DataFrame.\n",
      "Try using .loc[row_indexer,col_indexer] = value instead\n",
      "\n",
      "See the caveats in the documentation: https://pandas.pydata.org/pandas-docs/stable/user_guide/indexing.html#returning-a-view-versus-a-copy\n",
      "  \n"
     ]
    }
   ],
   "source": [
    "testResultList = [int(i.label[\"closest_cluster\"].float32_tensor.values[0]) for i in testResult]\n",
    "testTableNew['Cluster'] = testResultList\n",
    "testTableNew.head()\n",
    "testTableNew.to_csv(\"data/clusteredTest.csv\")\n",
    "[testTableNew[testTableNew['Cluster']==i].to_csv(\"data/test\" + str(i) + \".csv\") for i in np.unique(testTableNew['Cluster'].values.ravel())]\n",
    "testTableClustered = [testTableNew[testTableNew['Cluster']==i] for i in np.unique(testTableNew['Cluster'].values.ravel())]"
   ]
  },
  {
   "cell_type": "code",
   "execution_count": 18,
   "metadata": {},
   "outputs": [
    {
     "data": {
      "text/html": [
       "<div>\n",
       "<style scoped>\n",
       "    .dataframe tbody tr th:only-of-type {\n",
       "        vertical-align: middle;\n",
       "    }\n",
       "\n",
       "    .dataframe tbody tr th {\n",
       "        vertical-align: top;\n",
       "    }\n",
       "\n",
       "    .dataframe thead th {\n",
       "        text-align: right;\n",
       "    }\n",
       "</style>\n",
       "<table border=\"1\" class=\"dataframe\">\n",
       "  <thead>\n",
       "    <tr style=\"text-align: right;\">\n",
       "      <th></th>\n",
       "      <th>Var 16 day</th>\n",
       "      <th>Normalised Gold Return</th>\n",
       "      <th>Normalised Gold Return 2 day back 1</th>\n",
       "      <th>Normalised Gold Return 4 day back 3</th>\n",
       "      <th>Normalised Gold Return 8 day back 7</th>\n",
       "      <th>Var 16 day.1</th>\n",
       "      <th>Normalised S&amp;P Return</th>\n",
       "      <th>Normalised S&amp;P Return 2 day back 1</th>\n",
       "      <th>Normalised S&amp;P Return 4 day back 3</th>\n",
       "      <th>Normalised S&amp;P Return 8 day back 7</th>\n",
       "      <th>Tomorrow Gold Return</th>\n",
       "      <th>Cluster</th>\n",
       "    </tr>\n",
       "    <tr>\n",
       "      <th>Date</th>\n",
       "      <th></th>\n",
       "      <th></th>\n",
       "      <th></th>\n",
       "      <th></th>\n",
       "      <th></th>\n",
       "      <th></th>\n",
       "      <th></th>\n",
       "      <th></th>\n",
       "      <th></th>\n",
       "      <th></th>\n",
       "      <th></th>\n",
       "      <th></th>\n",
       "    </tr>\n",
       "  </thead>\n",
       "  <tbody>\n",
       "    <tr>\n",
       "      <th>2006-02-07</th>\n",
       "      <td>0.013692</td>\n",
       "      <td>-2.459206</td>\n",
       "      <td>-0.207471</td>\n",
       "      <td>0.901968</td>\n",
       "      <td>0.247293</td>\n",
       "      <td>0.006718</td>\n",
       "      <td>-1.204875</td>\n",
       "      <td>-0.482011</td>\n",
       "      <td>-0.746715</td>\n",
       "      <td>0.028301</td>\n",
       "      <td>-0.001633</td>\n",
       "      <td>0</td>\n",
       "    </tr>\n",
       "    <tr>\n",
       "      <th>2006-02-13</th>\n",
       "      <td>0.015017</td>\n",
       "      <td>-1.355534</td>\n",
       "      <td>0.008560</td>\n",
       "      <td>-1.302734</td>\n",
       "      <td>0.598810</td>\n",
       "      <td>0.005269</td>\n",
       "      <td>-0.618598</td>\n",
       "      <td>0.142072</td>\n",
       "      <td>-0.387506</td>\n",
       "      <td>0.372682</td>\n",
       "      <td>0.012801</td>\n",
       "      <td>0</td>\n",
       "    </tr>\n",
       "    <tr>\n",
       "      <th>2006-03-06</th>\n",
       "      <td>0.013526</td>\n",
       "      <td>-1.449860</td>\n",
       "      <td>0.231927</td>\n",
       "      <td>1.017815</td>\n",
       "      <td>-0.085512</td>\n",
       "      <td>0.005797</td>\n",
       "      <td>-1.202088</td>\n",
       "      <td>-0.378811</td>\n",
       "      <td>0.231070</td>\n",
       "      <td>1.001256</td>\n",
       "      <td>-0.003965</td>\n",
       "      <td>0</td>\n",
       "    </tr>\n",
       "    <tr>\n",
       "      <th>2006-03-08</th>\n",
       "      <td>0.011709</td>\n",
       "      <td>-1.576071</td>\n",
       "      <td>-1.419010</td>\n",
       "      <td>0.869872</td>\n",
       "      <td>0.486732</td>\n",
       "      <td>0.005734</td>\n",
       "      <td>0.354003</td>\n",
       "      <td>-1.087281</td>\n",
       "      <td>-0.464228</td>\n",
       "      <td>0.898588</td>\n",
       "      <td>0.005530</td>\n",
       "      <td>0</td>\n",
       "    </tr>\n",
       "    <tr>\n",
       "      <th>2006-04-07</th>\n",
       "      <td>0.010198</td>\n",
       "      <td>-1.120341</td>\n",
       "      <td>1.088628</td>\n",
       "      <td>1.112405</td>\n",
       "      <td>1.182586</td>\n",
       "      <td>0.004998</td>\n",
       "      <td>-2.069570</td>\n",
       "      <td>0.336930</td>\n",
       "      <td>0.233427</td>\n",
       "      <td>-0.235938</td>\n",
       "      <td>0.015636</td>\n",
       "      <td>0</td>\n",
       "    </tr>\n",
       "  </tbody>\n",
       "</table>\n",
       "</div>"
      ],
      "text/plain": [
       "            Var 16 day  Normalised Gold Return  \\\n",
       "Date                                             \n",
       "2006-02-07    0.013692               -2.459206   \n",
       "2006-02-13    0.015017               -1.355534   \n",
       "2006-03-06    0.013526               -1.449860   \n",
       "2006-03-08    0.011709               -1.576071   \n",
       "2006-04-07    0.010198               -1.120341   \n",
       "\n",
       "            Normalised Gold Return 2 day back 1  \\\n",
       "Date                                              \n",
       "2006-02-07                            -0.207471   \n",
       "2006-02-13                             0.008560   \n",
       "2006-03-06                             0.231927   \n",
       "2006-03-08                            -1.419010   \n",
       "2006-04-07                             1.088628   \n",
       "\n",
       "            Normalised Gold Return 4 day back 3  \\\n",
       "Date                                              \n",
       "2006-02-07                             0.901968   \n",
       "2006-02-13                            -1.302734   \n",
       "2006-03-06                             1.017815   \n",
       "2006-03-08                             0.869872   \n",
       "2006-04-07                             1.112405   \n",
       "\n",
       "            Normalised Gold Return 8 day back 7  Var 16 day.1  \\\n",
       "Date                                                            \n",
       "2006-02-07                             0.247293      0.006718   \n",
       "2006-02-13                             0.598810      0.005269   \n",
       "2006-03-06                            -0.085512      0.005797   \n",
       "2006-03-08                             0.486732      0.005734   \n",
       "2006-04-07                             1.182586      0.004998   \n",
       "\n",
       "            Normalised S&P Return  Normalised S&P Return 2 day back 1  \\\n",
       "Date                                                                    \n",
       "2006-02-07              -1.204875                           -0.482011   \n",
       "2006-02-13              -0.618598                            0.142072   \n",
       "2006-03-06              -1.202088                           -0.378811   \n",
       "2006-03-08               0.354003                           -1.087281   \n",
       "2006-04-07              -2.069570                            0.336930   \n",
       "\n",
       "            Normalised S&P Return 4 day back 3  \\\n",
       "Date                                             \n",
       "2006-02-07                           -0.746715   \n",
       "2006-02-13                           -0.387506   \n",
       "2006-03-06                            0.231070   \n",
       "2006-03-08                           -0.464228   \n",
       "2006-04-07                            0.233427   \n",
       "\n",
       "            Normalised S&P Return 8 day back 7  Tomorrow Gold Return  Cluster  \n",
       "Date                                                                           \n",
       "2006-02-07                            0.028301             -0.001633        0  \n",
       "2006-02-13                            0.372682              0.012801        0  \n",
       "2006-03-06                            1.001256             -0.003965        0  \n",
       "2006-03-08                            0.898588              0.005530        0  \n",
       "2006-04-07                           -0.235938              0.015636        0  "
      ]
     },
     "execution_count": 18,
     "metadata": {},
     "output_type": "execute_result"
    }
   ],
   "source": [
    "trainTableClustered[0].head()"
   ]
  },
  {
   "cell_type": "code",
   "execution_count": 45,
   "metadata": {},
   "outputs": [],
   "source": [
    "import sagemaker\n",
    "\n",
    "# Helper wrappers referred earlier\n",
    "from ag_model import (\n",
    "    AutoGluonTraining,\n",
    "    AutoGluonInferenceModel,\n",
    "    AutoGluonTabularPredictor,\n",
    ")\n",
    "from sagemaker import utils\n",
    "\n",
    "role = sagemaker.get_execution_role()\n",
    "sagemaker_session = sagemaker.session.Session()\n",
    "region = sagemaker_session._region_name\n",
    "\n",
    "bucket = sagemaker_session.default_bucket()\n",
    "s3_prefix = f\"autogluon_sm/{utils.sagemaker_timestamp()}\"\n",
    "output_path = f\"s3://{bucket}/{s3_prefix}/output/\"\n"
   ]
  },
  {
   "cell_type": "code",
   "execution_count": 51,
   "metadata": {},
   "outputs": [],
   "source": [
    "ag = AutoGluonTraining(\n",
    "    role=role,\n",
    "    entry_point=\"scripts/hpo.py\",\n",
    "    region=region,\n",
    "    instance_count=1,\n",
    "    instance_type=\"ml.m5.2xlarge\",\n",
    "    framework_version=\"0.3.1\",\n",
    "    base_job_name=\"autogluon-tabular-train\",\n",
    ")\n"
   ]
  },
  {
   "cell_type": "code",
   "execution_count": 52,
   "metadata": {},
   "outputs": [
    {
     "name": "stdout",
     "output_type": "stream",
     "text": [
      "2021-12-27 23:18:42 Starting - Starting the training job...\n",
      "2021-12-27 23:19:09 Starting - Launching requested ML instancesProfilerReport-1640647122: InProgress\n",
      "......\n",
      "2021-12-27 23:20:09 Starting - Preparing the instances for training......\n",
      "2021-12-27 23:21:09 Downloading - Downloading input data...\n",
      "2021-12-27 23:21:29 Training - Downloading the training image...\n",
      "2021-12-27 23:22:10 Training - Training image download completed. Training in progress.\u001b[34m2021-12-27 23:21:59,409 sagemaker-training-toolkit INFO     Imported framework sagemaker_mxnet_container.training\u001b[0m\n",
      "\u001b[34m2021-12-27 23:21:59,411 sagemaker-training-toolkit INFO     No GPUs detected (normal if no gpus installed)\u001b[0m\n",
      "\u001b[34m2021-12-27 23:21:59,422 sagemaker_mxnet_container.training INFO     MXNet training environment: {'SM_HOSTS': '[\"algo-1\"]', 'SM_NETWORK_INTERFACE_NAME': 'eth0', 'SM_HPS': '{}', 'SM_USER_ENTRY_POINT': 'hpo.py', 'SM_FRAMEWORK_PARAMS': '{}', 'SM_RESOURCE_CONFIG': '{\"current_host\":\"algo-1\",\"hosts\":[\"algo-1\"],\"network_interface_name\":\"eth0\"}', 'SM_INPUT_DATA_CONFIG': '{\"config\":{\"RecordWrapperType\":\"None\",\"S3DistributionType\":\"FullyReplicated\",\"TrainingInputMode\":\"File\"},\"test\":{\"RecordWrapperType\":\"None\",\"S3DistributionType\":\"FullyReplicated\",\"TrainingInputMode\":\"File\"},\"train\":{\"RecordWrapperType\":\"None\",\"S3DistributionType\":\"FullyReplicated\",\"TrainingInputMode\":\"File\"}}', 'SM_OUTPUT_DATA_DIR': '/opt/ml/output/data', 'SM_CHANNELS': '[\"config\",\"test\",\"train\"]', 'SM_CURRENT_HOST': 'algo-1', 'SM_MODULE_NAME': 'hpo', 'SM_LOG_LEVEL': '20', 'SM_FRAMEWORK_MODULE': 'sagemaker_mxnet_container.training:main', 'SM_INPUT_DIR': '/opt/ml/input', 'SM_INPUT_CONFIG_DIR': '/opt/ml/input/config', 'SM_OUTPUT_DIR': '/opt/ml/output', 'SM_NUM_CPUS': '8', 'SM_NUM_GPUS': '0', 'SM_MODEL_DIR': '/opt/ml/model', 'SM_MODULE_DIR': 's3://sagemaker-us-east-1-815619835265/test-autogluon-image-1640647122-12f3/source/sourcedir.tar.gz', 'SM_TRAINING_ENV': '{\"additional_framework_parameters\":{},\"channel_input_dirs\":{\"config\":\"/opt/ml/input/data/config\",\"test\":\"/opt/ml/input/data/test\",\"train\":\"/opt/ml/input/data/train\"},\"current_host\":\"algo-1\",\"framework_module\":\"sagemaker_mxnet_container.training:main\",\"hosts\":[\"algo-1\"],\"hyperparameters\":{},\"input_config_dir\":\"/opt/ml/input/config\",\"input_data_config\":{\"config\":{\"RecordWrapperType\":\"None\",\"S3DistributionType\":\"FullyReplicated\",\"TrainingInputMode\":\"File\"},\"test\":{\"RecordWrapperType\":\"None\",\"S3DistributionType\":\"FullyReplicated\",\"TrainingInputMode\":\"File\"},\"train\":{\"RecordWrapperType\":\"None\",\"S3DistributionType\":\"FullyReplicated\",\"TrainingInputMode\":\"File\"}},\"input_dir\":\"/opt/ml/input\",\"is_master\":true,\"job_name\":\"test-autogluon-image-1640647122-12f3\",\"log_level\":20,\"master_hostname\":\"algo-1\",\"model_dir\":\"/opt/ml/model\",\"module_dir\":\"s3://sagemaker-us-east-1-815619835265/test-autogluon-image-1640647122-12f3/source/sourcedir.tar.gz\",\"module_name\":\"hpo\",\"network_interface_name\":\"eth0\",\"num_cpus\":8,\"num_gpus\":0,\"output_data_dir\":\"/opt/ml/output/data\",\"output_dir\":\"/opt/ml/output\",\"output_intermediate_dir\":\"/opt/ml/output/intermediate\",\"resource_config\":{\"current_host\":\"algo-1\",\"hosts\":[\"algo-1\"],\"network_interface_name\":\"eth0\"},\"user_entry_point\":\"hpo.py\"}', 'SM_USER_ARGS': '[]', 'SM_OUTPUT_INTERMEDIATE_DIR': '/opt/ml/output/intermediate', 'SM_CHANNEL_TEST': '/opt/ml/input/data/test', 'SM_CHANNEL_CONFIG': '/opt/ml/input/data/config', 'SM_CHANNEL_TRAIN': '/opt/ml/input/data/train'}\u001b[0m\n",
      "\u001b[34m2021-12-27 23:23:00,170 sagemaker-training-toolkit INFO     No GPUs detected (normal if no gpus installed)\u001b[0m\n",
      "\u001b[34m2021-12-27 23:23:00,182 sagemaker-training-toolkit INFO     No GPUs detected (normal if no gpus installed)\u001b[0m\n",
      "\u001b[34m2021-12-27 23:23:00,194 sagemaker-training-toolkit INFO     No GPUs detected (normal if no gpus installed)\u001b[0m\n",
      "\u001b[34m2021-12-27 23:23:00,204 sagemaker-training-toolkit INFO     Invoking user script\u001b[0m\n",
      "\u001b[34mTraining Env:\u001b[0m\n",
      "\u001b[34m{\n",
      "    \"additional_framework_parameters\": {},\n",
      "    \"channel_input_dirs\": {\n",
      "        \"test\": \"/opt/ml/input/data/test\",\n",
      "        \"config\": \"/opt/ml/input/data/config\",\n",
      "        \"train\": \"/opt/ml/input/data/train\"\n",
      "    },\n",
      "    \"current_host\": \"algo-1\",\n",
      "    \"framework_module\": \"sagemaker_mxnet_container.training:main\",\n",
      "    \"hosts\": [\n",
      "        \"algo-1\"\n",
      "    ],\n",
      "    \"hyperparameters\": {},\n",
      "    \"input_config_dir\": \"/opt/ml/input/config\",\n",
      "    \"input_data_config\": {\n",
      "        \"test\": {\n",
      "            \"TrainingInputMode\": \"File\",\n",
      "            \"S3DistributionType\": \"FullyReplicated\",\n",
      "            \"RecordWrapperType\": \"None\"\n",
      "        },\n",
      "        \"config\": {\n",
      "            \"TrainingInputMode\": \"File\",\n",
      "            \"S3DistributionType\": \"FullyReplicated\",\n",
      "            \"RecordWrapperType\": \"None\"\n",
      "        },\n",
      "        \"train\": {\n",
      "            \"TrainingInputMode\": \"File\",\n",
      "            \"S3DistributionType\": \"FullyReplicated\",\n",
      "            \"RecordWrapperType\": \"None\"\n",
      "        }\n",
      "    },\n",
      "    \"input_dir\": \"/opt/ml/input\",\n",
      "    \"is_master\": true,\n",
      "    \"job_name\": \"test-autogluon-image-1640647122-12f3\",\n",
      "    \"log_level\": 20,\n",
      "    \"master_hostname\": \"algo-1\",\n",
      "    \"model_dir\": \"/opt/ml/model\",\n",
      "    \"module_dir\": \"s3://sagemaker-us-east-1-815619835265/test-autogluon-image-1640647122-12f3/source/sourcedir.tar.gz\",\n",
      "    \"module_name\": \"hpo\",\n",
      "    \"network_interface_name\": \"eth0\",\n",
      "    \"num_cpus\": 8,\n",
      "    \"num_gpus\": 0,\n",
      "    \"output_data_dir\": \"/opt/ml/output/data\",\n",
      "    \"output_dir\": \"/opt/ml/output\",\n",
      "    \"output_intermediate_dir\": \"/opt/ml/output/intermediate\",\n",
      "    \"resource_config\": {\n",
      "        \"current_host\": \"algo-1\",\n",
      "        \"hosts\": [\n",
      "            \"algo-1\"\n",
      "        ],\n",
      "        \"network_interface_name\": \"eth0\"\n",
      "    },\n",
      "    \"user_entry_point\": \"hpo.py\"\u001b[0m\n",
      "\u001b[34m}\u001b[0m\n",
      "\u001b[34mEnvironment variables:\u001b[0m\n",
      "\u001b[34mSM_HOSTS=[\"algo-1\"]\u001b[0m\n",
      "\u001b[34mSM_NETWORK_INTERFACE_NAME=eth0\u001b[0m\n",
      "\u001b[34mSM_HPS={}\u001b[0m\n",
      "\u001b[34mSM_USER_ENTRY_POINT=hpo.py\u001b[0m\n",
      "\u001b[34mSM_FRAMEWORK_PARAMS={}\u001b[0m\n",
      "\u001b[34mSM_RESOURCE_CONFIG={\"current_host\":\"algo-1\",\"hosts\":[\"algo-1\"],\"network_interface_name\":\"eth0\"}\u001b[0m\n",
      "\u001b[34mSM_INPUT_DATA_CONFIG={\"config\":{\"RecordWrapperType\":\"None\",\"S3DistributionType\":\"FullyReplicated\",\"TrainingInputMode\":\"File\"},\"test\":{\"RecordWrapperType\":\"None\",\"S3DistributionType\":\"FullyReplicated\",\"TrainingInputMode\":\"File\"},\"train\":{\"RecordWrapperType\":\"None\",\"S3DistributionType\":\"FullyReplicated\",\"TrainingInputMode\":\"File\"}}\u001b[0m\n",
      "\u001b[34mSM_OUTPUT_DATA_DIR=/opt/ml/output/data\u001b[0m\n",
      "\u001b[34mSM_CHANNELS=[\"config\",\"test\",\"train\"]\u001b[0m\n",
      "\u001b[34mSM_CURRENT_HOST=algo-1\u001b[0m\n",
      "\u001b[34mSM_MODULE_NAME=hpo\u001b[0m\n",
      "\u001b[34mSM_LOG_LEVEL=20\u001b[0m\n",
      "\u001b[34mSM_FRAMEWORK_MODULE=sagemaker_mxnet_container.training:main\u001b[0m\n",
      "\u001b[34mSM_INPUT_DIR=/opt/ml/input\u001b[0m\n",
      "\u001b[34mSM_INPUT_CONFIG_DIR=/opt/ml/input/config\u001b[0m\n",
      "\u001b[34mSM_OUTPUT_DIR=/opt/ml/output\u001b[0m\n",
      "\u001b[34mSM_NUM_CPUS=8\u001b[0m\n",
      "\u001b[34mSM_NUM_GPUS=0\u001b[0m\n",
      "\u001b[34mSM_MODEL_DIR=/opt/ml/model\u001b[0m\n",
      "\u001b[34mSM_MODULE_DIR=s3://sagemaker-us-east-1-815619835265/test-autogluon-image-1640647122-12f3/source/sourcedir.tar.gz\u001b[0m\n",
      "\u001b[34mSM_TRAINING_ENV={\"additional_framework_parameters\":{},\"channel_input_dirs\":{\"config\":\"/opt/ml/input/data/config\",\"test\":\"/opt/ml/input/data/test\",\"train\":\"/opt/ml/input/data/train\"},\"current_host\":\"algo-1\",\"framework_module\":\"sagemaker_mxnet_container.training:main\",\"hosts\":[\"algo-1\"],\"hyperparameters\":{},\"input_config_dir\":\"/opt/ml/input/config\",\"input_data_config\":{\"config\":{\"RecordWrapperType\":\"None\",\"S3DistributionType\":\"FullyReplicated\",\"TrainingInputMode\":\"File\"},\"test\":{\"RecordWrapperType\":\"None\",\"S3DistributionType\":\"FullyReplicated\",\"TrainingInputMode\":\"File\"},\"train\":{\"RecordWrapperType\":\"None\",\"S3DistributionType\":\"FullyReplicated\",\"TrainingInputMode\":\"File\"}},\"input_dir\":\"/opt/ml/input\",\"is_master\":true,\"job_name\":\"test-autogluon-image-1640647122-12f3\",\"log_level\":20,\"master_hostname\":\"algo-1\",\"model_dir\":\"/opt/ml/model\",\"module_dir\":\"s3://sagemaker-us-east-1-815619835265/test-autogluon-image-1640647122-12f3/source/sourcedir.tar.gz\",\"module_name\":\"hpo\",\"network_interface_name\":\"eth0\",\"num_cpus\":8,\"num_gpus\":0,\"output_data_dir\":\"/opt/ml/output/data\",\"output_dir\":\"/opt/ml/output\",\"output_intermediate_dir\":\"/opt/ml/output/intermediate\",\"resource_config\":{\"current_host\":\"algo-1\",\"hosts\":[\"algo-1\"],\"network_interface_name\":\"eth0\"},\"user_entry_point\":\"hpo.py\"}\u001b[0m\n",
      "\u001b[34mSM_USER_ARGS=[]\u001b[0m\n",
      "\u001b[34mSM_OUTPUT_INTERMEDIATE_DIR=/opt/ml/output/intermediate\u001b[0m\n",
      "\u001b[34mSM_CHANNEL_TEST=/opt/ml/input/data/test\u001b[0m\n",
      "\u001b[34mSM_CHANNEL_CONFIG=/opt/ml/input/data/config\u001b[0m\n",
      "\u001b[34mSM_CHANNEL_TRAIN=/opt/ml/input/data/train\u001b[0m\n",
      "\u001b[34mPYTHONPATH=/opt/ml/code:/usr/local/bin:/usr/local/lib/python37.zip:/usr/local/lib/python3.7:/usr/local/lib/python3.7/lib-dynload:/usr/local/lib/python3.7/site-packages\u001b[0m\n",
      "\u001b[34mInvoking script with the following command:\u001b[0m\n",
      "\u001b[34m/usr/local/bin/python3.7 hpo.py\u001b[0m\n",
      "\u001b[34mStarting AG\u001b[0m\n",
      "\u001b[34mArgs: Namespace(ag_config='/opt/ml/input/data/config', model_dir='/opt/ml/model', num_gpus='0', output_data_dir='/opt/ml/output/data', test_dir='/opt/ml/input/data/test', training_dir='/opt/ml/input/data/train')\u001b[0m\n",
      "\u001b[34mUsing config-full.yaml\u001b[0m\n",
      "\u001b[34mRunning training job with the config:\u001b[0m\n",
      "\u001b[34m{'ag_fit_args': {'presets': 'best_quality'},\n",
      " 'ag_predictor_args': {'eval_metric': 'root_mean_squared_error',\n",
      "                       'label': 'Tomorrow Gold Return'},\n",
      " 'feature_importance': True,\n",
      " 'leaderboard': True,\n",
      " 'num_gpus': 0,\n",
      " 'output_prediction_format': 'csv'}\u001b[0m\n",
      "\u001b[34mUsing train0.csv\u001b[0m\n",
      "\u001b[34mWarning: path already exists! This predictor may overwrite an existing predictor! path=\"/opt/ml/model\"\u001b[0m\n",
      "\u001b[34mPresets specified: ['best_quality']\u001b[0m\n",
      "\u001b[34mBeginning AutoGluon training ...\u001b[0m\n",
      "\u001b[34mAutoGluon will save models to \"/opt/ml/model/\"\u001b[0m\n",
      "\u001b[34mAutoGluon Version:  0.3.1\u001b[0m\n",
      "\u001b[34mTrain Data Rows:    307\u001b[0m\n",
      "\u001b[34mTrain Data Columns: 11\u001b[0m\n",
      "\u001b[34mPreprocessing data ...\u001b[0m\n",
      "\u001b[34mAutoGluon infers your prediction problem is: 'regression' (because dtype of label-column == float and many unique label-values observed).\u001b[0m\n",
      "\u001b[34m#011Label info (max, min, mean, stddev): (0.105751240543399, -0.093537641572285, -0.00101, 0.0174)\u001b[0m\n",
      "\u001b[34m#011If 'regression' is not the correct problem_type, please manually specify the problem_type argument in fit() (You may specify problem_type as one of: ['binary', 'multiclass', 'regression'])\u001b[0m\n",
      "\u001b[34mUsing Feature Generators to preprocess the data ...\u001b[0m\n",
      "\u001b[34mFitting AutoMLPipelineFeatureGenerator...\u001b[0m\n",
      "\u001b[34m#011Available Memory:                    31109.62 MB\u001b[0m\n",
      "\u001b[34m#011Train Data (Original)  Memory Usage: 0.05 MB (0.0% of available memory)\u001b[0m\n",
      "\u001b[34m#011Inferring data type of each feature based on column values. Set feature_metadata_in to manually specify special dtypes of the features.\u001b[0m\n",
      "\u001b[34m#011Stage 1 Generators:\u001b[0m\n",
      "\u001b[34m#011#011Fitting AsTypeFeatureGenerator...\u001b[0m\n",
      "\u001b[34m#011Stage 2 Generators:\u001b[0m\n",
      "\u001b[34m#011#011Fitting FillNaFeatureGenerator...\u001b[0m\n",
      "\u001b[34m#011Stage 3 Generators:\u001b[0m\n",
      "\u001b[34m#011#011Fitting IdentityFeatureGenerator...\u001b[0m\n",
      "\u001b[34m#011#011Fitting DatetimeFeatureGenerator...\u001b[0m\n",
      "\u001b[34m#011Stage 4 Generators:\u001b[0m\n",
      "\u001b[34m#011#011Fitting DropUniqueFeatureGenerator...\u001b[0m\n",
      "\u001b[34m#011Types of features in original data (raw dtype, special dtypes):\u001b[0m\n",
      "\u001b[34m#011#011('float', [])                      : 10 | ['Var 16 day', 'Normalised Gold Return', 'Normalised Gold Return 2 day back 1', 'Normalised Gold Return 4 day back 3', 'Normalised Gold Return 8 day back 7', ...]\u001b[0m\n",
      "\u001b[34m#011#011('object', ['datetime_as_object']) :  1 | ['Date']\u001b[0m\n",
      "\u001b[34m#011Types of features in processed data (raw dtype, special dtypes):\u001b[0m\n",
      "\u001b[34m#011#011('float', [])                : 10 | ['Var 16 day', 'Normalised Gold Return', 'Normalised Gold Return 2 day back 1', 'Normalised Gold Return 4 day back 3', 'Normalised Gold Return 8 day back 7', ...]\u001b[0m\n",
      "\u001b[34m#011#011('int', ['datetime_as_int']) :  1 | ['Date']\u001b[0m\n",
      "\u001b[34m#0110.0s = Fit runtime\u001b[0m\n",
      "\u001b[34m#01111 features in original data used to generate 11 features in processed data.\u001b[0m\n",
      "\u001b[34m#011Train Data (Processed) Memory Usage: 0.03 MB (0.0% of available memory)\u001b[0m\n",
      "\u001b[34mData preprocessing and feature engineering runtime = 0.03s ...\u001b[0m\n",
      "\u001b[34mAutoGluon will gauge predictive performance using evaluation metric: 'root_mean_squared_error'\u001b[0m\n",
      "\u001b[34m#011To change this, specify the eval_metric argument of fit()\u001b[0m\n",
      "\u001b[34mFitting 11 L1 models ...\u001b[0m\n",
      "\u001b[34mFitting model: KNeighborsUnif_BAG_L1 ...\u001b[0m\n",
      "\u001b[34m#011-0.0195#011 = Validation score   (root_mean_squared_error)\u001b[0m\n",
      "\u001b[34m#0110.0s#011 = Training   runtime\u001b[0m\n",
      "\u001b[34m#0110.1s#011 = Validation runtime\u001b[0m\n",
      "\u001b[34mFitting model: KNeighborsDist_BAG_L1 ...\u001b[0m\n",
      "\u001b[34m#011-0.0195#011 = Validation score   (root_mean_squared_error)\u001b[0m\n",
      "\u001b[34m#0110.0s#011 = Training   runtime\u001b[0m\n",
      "\u001b[34m#0110.1s#011 = Validation runtime\u001b[0m\n",
      "\u001b[34mFitting model: LightGBMXT_BAG_L1 ...\u001b[0m\n",
      "\u001b[34m#011-0.0174#011 = Validation score   (root_mean_squared_error)\u001b[0m\n",
      "\u001b[34m#0111.23s#011 = Training   runtime\u001b[0m\n",
      "\u001b[34m#0110.01s#011 = Validation runtime\u001b[0m\n",
      "\u001b[34mFitting model: LightGBM_BAG_L1 ...\u001b[0m\n",
      "\u001b[34m#011-0.0173#011 = Validation score   (root_mean_squared_error)\u001b[0m\n",
      "\u001b[34m#0110.87s#011 = Training   runtime\u001b[0m\n",
      "\u001b[34m#0110.01s#011 = Validation runtime\u001b[0m\n",
      "\u001b[34mFitting model: RandomForestMSE_BAG_L1 ...\u001b[0m\n",
      "\u001b[34m#011-0.0189#011 = Validation score   (root_mean_squared_error)\u001b[0m\n",
      "\u001b[34m#0110.69s#011 = Training   runtime\u001b[0m\n",
      "\u001b[34m#0110.1s#011 = Validation runtime\u001b[0m\n",
      "\u001b[34mFitting model: CatBoost_BAG_L1 ...\u001b[0m\n",
      "\u001b[34m#011-0.0173#011 = Validation score   (root_mean_squared_error)\u001b[0m\n",
      "\u001b[34m#0111.33s#011 = Training   runtime\u001b[0m\n",
      "\u001b[34m#0110.01s#011 = Validation runtime\u001b[0m\n",
      "\u001b[34mFitting model: ExtraTreesMSE_BAG_L1 ...\u001b[0m\n",
      "\u001b[34m#011-0.0181#011 = Validation score   (root_mean_squared_error)\u001b[0m\n",
      "\u001b[34m#0110.53s#011 = Training   runtime\u001b[0m\n",
      "\u001b[34m#0110.09s#011 = Validation runtime\u001b[0m\n",
      "\u001b[34mFitting model: NeuralNetFastAI_BAG_L1 ...\u001b[0m\n",
      "\u001b[34mgenerated new fontManager\u001b[0m\n",
      "\u001b[34mNo improvement since epoch 0: early stopping\u001b[0m\n",
      "\u001b[34mNo improvement since epoch 0: early stopping\u001b[0m\n",
      "\u001b[34mNo improvement since epoch 0: early stopping\u001b[0m\n",
      "\u001b[34mNo improvement since epoch 1: early stopping\u001b[0m\n",
      "\u001b[34mNo improvement since epoch 0: early stopping\u001b[0m\n",
      "\u001b[34m#011-0.0176#011 = Validation score   (root_mean_squared_error)\u001b[0m\n",
      "\u001b[34m#0118.42s#011 = Training   runtime\u001b[0m\n",
      "\u001b[34m#0110.09s#011 = Validation runtime\u001b[0m\n",
      "\u001b[34mFitting model: XGBoost_BAG_L1 ...\u001b[0m\n",
      "\u001b[34m#011-0.0199#011 = Validation score   (root_mean_squared_error)\u001b[0m\n",
      "\u001b[34m#0111.08s#011 = Training   runtime\u001b[0m\n",
      "\u001b[34m#0110.02s#011 = Validation runtime\u001b[0m\n",
      "\u001b[34mFitting model: NeuralNetMXNet_BAG_L1 ...\u001b[0m\n",
      "\u001b[34m#011-0.0185#011 = Validation score   (root_mean_squared_error)\u001b[0m\n",
      "\u001b[34m#0116.93s#011 = Training   runtime\u001b[0m\n",
      "\u001b[34m#0110.05s#011 = Validation runtime\u001b[0m\n",
      "\u001b[34mFitting model: LightGBMLarge_BAG_L1 ...\u001b[0m\n",
      "\u001b[34m#011-0.0174#011 = Validation score   (root_mean_squared_error)\u001b[0m\n",
      "\u001b[34m#0111.03s#011 = Training   runtime\u001b[0m\n",
      "\u001b[34m#0110.01s#011 = Validation runtime\u001b[0m\n",
      "\u001b[34mFitting model: WeightedEnsemble_L2 ...\u001b[0m\n",
      "\u001b[34m#011-0.0173#011 = Validation score   (root_mean_squared_error)\u001b[0m\n",
      "\u001b[34m#0110.38s#011 = Training   runtime\u001b[0m\n",
      "\u001b[34m#0110.0s#011 = Validation runtime\u001b[0m\n",
      "\u001b[34mAutoGluon training complete, total runtime = 23.46s ...\u001b[0m\n",
      "\u001b[34mTabularPredictor saved. To load, use: predictor = TabularPredictor.load(\"/opt/ml/model/\")\u001b[0m\n",
      "\u001b[34mUsing test0.csv\u001b[0m\n",
      "\u001b[34mLoaded data from: /opt/ml/input/data/test/test0.csv | Columns = 13 / 13 | Rows = 99 -> 99\u001b[0m\n",
      "\u001b[34m                     model  score_test  score_val  pred_time_test  pred_time_val  fit_time  pred_time_test_marginal  pred_time_val_marginal  fit_time_marginal  stack_level  can_infer  fit_order\u001b[0m\n",
      "\u001b[34m0        LightGBMXT_BAG_L1   -0.011879  -0.017359        0.010372       0.011612  1.225300                 0.010372                0.011612           1.225300            1       True          3\u001b[0m\n",
      "\u001b[34m1   NeuralNetFastAI_BAG_L1   -0.011884  -0.017600        0.136191       0.094176  8.421423                 0.136191                0.094176           8.421423            1       True          8\u001b[0m\n",
      "\u001b[34m2          CatBoost_BAG_L1   -0.011904  -0.017326        0.007825       0.011467  1.328834                 0.007825                0.011467           1.328834            1       True          6\u001b[0m\n",
      "\u001b[34m3      WeightedEnsemble_L2   -0.011910  -0.017310        0.108527       0.043081  3.658836                 0.002487                0.000478           0.378926            2       True         12\u001b[0m\n",
      "\u001b[34m4          LightGBM_BAG_L1   -0.011941  -0.017329        0.010269       0.013031  0.867069                 0.010269                0.013031           0.867069            1       True          4\u001b[0m\n",
      "\u001b[34m5     LightGBMLarge_BAG_L1   -0.011949  -0.017403        0.011568       0.012991  1.026139                 0.011568                0.012991           1.026139            1       True         11\u001b[0m\n",
      "\u001b[34m6     ExtraTreesMSE_BAG_L1   -0.012484  -0.018093        0.119334       0.088794  0.532995                 0.119334                0.088794           0.532995            1       True          7\u001b[0m\n",
      "\u001b[34m7           XGBoost_BAG_L1   -0.013109  -0.019928        0.087945       0.018106  1.084007                 0.087945                0.018106           1.084007            1       True          9\u001b[0m\n",
      "\u001b[34m8    KNeighborsUnif_BAG_L1   -0.013454  -0.019482        0.103836       0.104557  0.004639                 0.103836                0.104557           0.004639            1       True          1\u001b[0m\n",
      "\u001b[34m9    KNeighborsDist_BAG_L1   -0.013502  -0.019484        0.104048       0.102205  0.003860                 0.104048                0.102205           0.003860            1       True          2\u001b[0m\n",
      "\u001b[34m10  RandomForestMSE_BAG_L1   -0.013641  -0.018865        0.118325       0.099839  0.692420                 0.118325                0.099839           0.692420            1       True          5\u001b[0m\n",
      "\u001b[34m11   NeuralNetMXNet_BAG_L1   -0.013919  -0.018521        0.087933       0.046228  6.925150                 0.087933                0.046228           6.925150            1       True         10\u001b[0m\n",
      "\u001b[34mComputing feature importance via permutation shuffling for 11 features using 99 rows with 3 shuffle sets...\u001b[0m\n",
      "\u001b[34m#0114.24s#011= Expected runtime (1.41s per shuffle set)\u001b[0m\n",
      "\u001b[34m#0110.52s#011= Actual runtime (Completed 3 of 3 shuffle sets)\u001b[0m\n",
      "\u001b[34m2021-12-27 23:23:28,577 sagemaker-training-toolkit INFO     Reporting training SUCCESS\u001b[0m\n",
      "\n",
      "2021-12-27 23:23:39 Uploading - Uploading generated training model\n",
      "2021-12-27 23:23:39 Completed - Training job completed\n",
      "Training seconds: 154\n",
      "Billable seconds: 154\n"
     ]
    }
   ],
   "source": [
    "s3_prefix = f\"autogluon_sm/{utils.sagemaker_timestamp()}\"\n",
    "train_input = ag.sagemaker_session.upload_data(\n",
    "    path=os.path.join(\"data\", \"train0.csv\"), key_prefix=s3_prefix\n",
    ")\n",
    "eval_input = ag.sagemaker_session.upload_data(\n",
    "    path=os.path.join(\"data\", \"test0.csv\"), key_prefix=s3_prefix\n",
    ")\n",
    "config_input = ag.sagemaker_session.upload_data(\n",
    "    path=os.path.join(\"ag_configs\", \"config-full.yaml\"), key_prefix=s3_prefix\n",
    ")\n",
    "\n",
    "job_name = utils.unique_name_from_base(\"test-autogluon-image\")\n",
    "ag.fit(\n",
    "    {\"config\": config_input, \"train\": train_input, \"test\": eval_input},\n",
    "    job_name=job_name,\n",
    ")\n"
   ]
  },
  {
   "cell_type": "code",
   "execution_count": 59,
   "metadata": {},
   "outputs": [],
   "source": [
    "endpoint_name = sagemaker.utils.unique_name_from_base(\"sagemaker-autogluon-serving-trained-model\")\n",
    "model_data = 's3://' + os.path.join(sagemaker_session.default_bucket(), job_name, 'output', 'model.tar.gz')"
   ]
  },
  {
   "cell_type": "code",
   "execution_count": 61,
   "metadata": {},
   "outputs": [
    {
     "name": "stdout",
     "output_type": "stream",
     "text": [
      "-----!"
     ]
    }
   ],
   "source": [
    "from sagemaker.serializers import CSVSerializer\n",
    "instance_type = \"ml.m5.2xlarge\"\n",
    "\n",
    "model = AutoGluonInferenceModel(\n",
    "    model_data=model_data,\n",
    "    role=role,\n",
    "    region=region,\n",
    "    framework_version=\"0.3.1\",\n",
    "    instance_type=instance_type,\n",
    "    source_dir=\"scripts\",\n",
    "    entry_point=\"hpo.py\",\n",
    ")\n",
    "\n",
    "predictor = model.deploy(\n",
    "    initial_instance_count=1, serializer=CSVSerializer(), instance_type=instance_type\n",
    ")\n"
   ]
  },
  {
   "cell_type": "code",
   "execution_count": 70,
   "metadata": {},
   "outputs": [],
   "source": [
    "\n",
    "results = predictor.predict(testTableClustered[0].drop(columns=['Cluster']).to_csv(index=False, header=False))"
   ]
  },
  {
   "cell_type": "code",
   "execution_count": 74,
   "metadata": {},
   "outputs": [
    {
     "data": {
      "text/plain": [
       "99"
      ]
     },
     "execution_count": 74,
     "metadata": {},
     "output_type": "execute_result"
    }
   ],
   "source": [
    "len(results)"
   ]
  },
  {
   "cell_type": "code",
   "execution_count": 81,
   "metadata": {},
   "outputs": [],
   "source": [
    "res=[]\n",
    "res.append(results)"
   ]
  },
  {
   "cell_type": "code",
   "execution_count": 82,
   "metadata": {},
   "outputs": [
    {
     "data": {
      "text/plain": [
       "[[[2.5483670469839126e-05, 2.5483670469839126e-05],\n",
       "  [-0.00026638907729648054, -0.00026638907729648054],\n",
       "  [-0.0016387288924306631, -0.0016387288924306631],\n",
       "  [-0.0015963999321684241, -0.0015963999321684241],\n",
       "  [-0.000770609243772924, -0.000770609243772924],\n",
       "  [-0.0010848644888028502, -0.0010848644888028502],\n",
       "  [-0.0017359096091240644, -0.0017359096091240644],\n",
       "  [-0.0006679323269054294, -0.0006679323269054294],\n",
       "  [-0.00022823756444267929, -0.00022823756444267929],\n",
       "  [-0.0005692045670002699, -0.0005692045670002699],\n",
       "  [-0.0009111722465604544, -0.0009111722465604544],\n",
       "  [-0.0009386855526827276, -0.0009386855526827276],\n",
       "  [-0.0020370616111904383, -0.0020370616111904383],\n",
       "  [-0.00046790781198069453, -0.00046790781198069453],\n",
       "  [-0.0006766841397620738, -0.0006766841397620738],\n",
       "  [-0.0007759048021398485, -0.0007759048021398485],\n",
       "  [-0.0012591436970978975, -0.0012591436970978975],\n",
       "  [-0.001007281243801117, -0.001007281243801117],\n",
       "  [-0.0010681756539270282, -0.0010681756539270282],\n",
       "  [6.369333277689293e-06, 6.369333277689293e-06],\n",
       "  [-0.0013179153902456164, -0.0013179153902456164],\n",
       "  [-0.0012959165032953024, -0.0012959165032953024],\n",
       "  [-0.0011216216953471303, -0.0011216216953471303],\n",
       "  [-0.001221701386384666, -0.001221701386384666],\n",
       "  [-0.0009661750518716872, -0.0009661750518716872],\n",
       "  [-0.0023533038329333067, -0.0023533038329333067],\n",
       "  [-0.0006216170149855316, -0.0006216170149855316],\n",
       "  [-0.0011220778105780482, -0.0011220778105780482],\n",
       "  [-0.001278442214243114, -0.001278442214243114],\n",
       "  [-0.0019851457327604294, -0.0019851457327604294],\n",
       "  [-0.00030781124951317906, -0.00030781124951317906],\n",
       "  [-0.00043870724039152265, -0.00043870724039152265],\n",
       "  [-0.001412966288626194, -0.001412966288626194],\n",
       "  [-0.0008826222037896514, -0.0008826222037896514],\n",
       "  [-0.00028394616674631834, -0.00028394616674631834],\n",
       "  [-0.0008593376842327416, -0.0008593376842327416],\n",
       "  [-0.0013718438567593694, -0.0013718438567593694],\n",
       "  [-0.00026253925170749426, -0.00026253925170749426],\n",
       "  [-0.0013235602527856827, -0.0013235602527856827],\n",
       "  [-0.00040457502473145723, -0.00040457502473145723],\n",
       "  [-0.0007961217779666185, -0.0007961217779666185],\n",
       "  [-0.000897176272701472, -0.000897176272701472],\n",
       "  [-0.0008664652123115957, -0.0008664652123115957],\n",
       "  [-0.00033124114270322025, -0.00033124114270322025],\n",
       "  [-0.001925395568832755, -0.001925395568832755],\n",
       "  [-0.0005385959520936012, -0.0005385959520936012],\n",
       "  [-0.0002001825487241149, -0.0002001825487241149],\n",
       "  [-0.00019615821656771004, -0.00019615821656771004],\n",
       "  [-0.0014769728295505047, -0.0014769728295505047],\n",
       "  [-0.00011928773892577738, -0.00011928773892577738],\n",
       "  [-0.001974032958969474, -0.001974032958969474],\n",
       "  [-0.0014849785948172212, -0.0014849785948172212],\n",
       "  [-0.0018802712438628078, -0.0018802712438628078],\n",
       "  [-0.0018734039040282369, -0.0018734039040282369],\n",
       "  [-0.0019547902047634125, -0.0019547902047634125],\n",
       "  [-0.0010754407849162817, -0.0010754407849162817],\n",
       "  [-0.0015425491146743298, -0.0015425491146743298],\n",
       "  [-0.0005408606375567615, -0.0005408606375567615],\n",
       "  [-0.0020300832111388445, -0.0020300832111388445],\n",
       "  [-0.00013809370284434408, -0.00013809370284434408],\n",
       "  [-0.0012324334820732474, -0.0012324334820732474],\n",
       "  [1.511604932602495e-05, 1.511604932602495e-05],\n",
       "  [-0.001654270337894559, -0.001654270337894559],\n",
       "  [-0.000189446029253304, -0.000189446029253304],\n",
       "  [-0.000360265898052603, -0.000360265898052603],\n",
       "  [-0.0006339826504699886, -0.0006339826504699886],\n",
       "  [-0.00012697740748990327, -0.00012697740748990327],\n",
       "  [-0.0012915015686303377, -0.0012915015686303377],\n",
       "  [-0.0001409432734362781, -0.0001409432734362781],\n",
       "  [-0.0009158339817076921, -0.0009158339817076921],\n",
       "  [-0.0012276212219148874, -0.0012276212219148874],\n",
       "  [-0.00014988852490205318, -0.00014988852490205318],\n",
       "  [-0.00024624873185530305, -0.00024624873185530305],\n",
       "  [-0.0018210684647783637, -0.0018210684647783637],\n",
       "  [-0.0010657990351319313, -0.0010657990351319313],\n",
       "  [-0.00013441251940093935, -0.00013441251940093935],\n",
       "  [-0.0003498814476188272, -0.0003498814476188272],\n",
       "  [-0.001359795918688178, -0.001359795918688178],\n",
       "  [-0.0011016224743798375, -0.0011016224743798375],\n",
       "  [-0.00030265041277743876, -0.00030265041277743876],\n",
       "  [6.507621583295986e-05, 6.507621583295986e-05],\n",
       "  [5.380137008614838e-05, 5.380137008614838e-05],\n",
       "  [-0.0006667071720585227, -0.0006667071720585227],\n",
       "  [-0.0014501310652121902, -0.0014501310652121902],\n",
       "  [-0.0002736830501817167, -0.0002736830501817167],\n",
       "  [-0.0009600190096534789, -0.0009600190096534789],\n",
       "  [-0.0006012354861013591, -0.0006012354861013591],\n",
       "  [-0.0006794615765102208, -0.0006794615765102208],\n",
       "  [-0.0013209627941250801, -0.0013209627941250801],\n",
       "  [-0.000876519363373518, -0.000876519363373518],\n",
       "  [-0.0009786364389583468, -0.0009786364389583468],\n",
       "  [-0.0010515091707929969, -0.0010515091707929969],\n",
       "  [-0.00044183849240653217, -0.00044183849240653217],\n",
       "  [5.6262673751916736e-05, 5.6262673751916736e-05],\n",
       "  [-0.0012786748120561242, -0.0012786748120561242],\n",
       "  [-0.0005177418352104723, -0.0005177418352104723],\n",
       "  [4.998873919248581e-06, 4.998873919248581e-06],\n",
       "  [-0.0010840618051588535, -0.0010840618051588535],\n",
       "  [-0.0012656631879508495, -0.0012656631879508495]]]"
      ]
     },
     "execution_count": 82,
     "metadata": {},
     "output_type": "execute_result"
    }
   ],
   "source": [
    "res"
   ]
  },
  {
   "cell_type": "code",
   "execution_count": 75,
   "metadata": {},
   "outputs": [],
   "source": [
    "predictor.delete_endpoint()"
   ]
  },
  {
   "cell_type": "code",
   "execution_count": null,
   "metadata": {},
   "outputs": [],
   "source": [
    "#\n",
    "#model_key = \"groups/\" + kmeans.latest_training_job.name + \"/output/model.tar.gz\"\n",
    "#boto3.resource(\"s3\").Bucket(bucket).download_file(model_key, \"model.tar.gz\")\n",
    "#os.system(\"tar -zxvf model.tar.gz\")\n",
    "#Kmeans_model_params = mx.ndarray.load(\"model_algo-1\")\n",
    "#cluster_centroids = pd.DataFrame(Kmeans_model_params[0].asnumpy())\n",
    "#cluster_centroids.columns = counties_transformed.columns\n",
    "#"
   ]
  }
 ],
 "metadata": {
  "kernelspec": {
   "display_name": "Python 3 (Data Science)",
   "language": "python",
   "name": "python3__SAGEMAKER_INTERNAL__arn:aws:sagemaker:us-east-1:081325390199:image/datascience-1.0"
  },
  "language_info": {
   "codemirror_mode": {
    "name": "ipython",
    "version": 3
   },
   "file_extension": ".py",
   "mimetype": "text/x-python",
   "name": "python",
   "nbconvert_exporter": "python",
   "pygments_lexer": "ipython3",
   "version": "3.7.10"
  }
 },
 "nbformat": 4,
 "nbformat_minor": 4
}
